{
 "cells": [
  {
   "cell_type": "code",
   "execution_count": 4,
   "id": "a7cbb8f7",
   "metadata": {
    "pycharm": {
     "name": "#%%\n"
    }
   },
   "outputs": [
    {
     "name": "stdout",
     "output_type": "stream",
     "text": [
      "\u001B[31mERROR\u001B[0m: \r\n",
      "        Can't find a suitable configuration file in this directory or any\r\n",
      "        parent. Are you in the right directory?\r\n",
      "\r\n",
      "        Supported filenames: docker-compose.yml, docker-compose.yaml, compose.yml, compose.yaml\r\n",
      "        \r\n"
     ]
    }
   ],
   "source": [
    "!docker-compose up -d --build"
   ]
  },
  {
   "cell_type": "code",
   "execution_count": 72,
   "id": "animated-atmosphere",
   "metadata": {},
   "outputs": [],
   "source": [
    "import time\n",
    "from typing import Callable\n",
    "from uuid import uuid4\n",
    "\n",
    "import psycopg2"
   ]
  },
  {
   "cell_type": "code",
   "execution_count": 73,
   "id": "atomic-subject",
   "metadata": {},
   "outputs": [],
   "source": [
    "PG_HOST = \"127.0.0.1\"\n",
    "# PG_HOST = \"postgres\"\n",
    "PG_PORT = 5432\n",
    "PG_DB = \"postgres\"\n",
    "PG_USER=\"app\"\n",
    "PG_PASSWORD=\"123qwe\"\n",
    "PG_COLLECTION_LIKE = \"likedFilms\"\n",
    "PG_COLLECTION_REVIEW = \"reviews\"\n",
    "PG_COLLECTION_BOOKMARK = \"bookmarks\"\n",
    "ITERATIONS_NUMBER = 10\n",
    "USERS_IN_BATCH = 10\n",
    "OPTIMAL_BATCH_SIZE = 200\n",
    "TEST_RECORDS_SIZE = 10000\n",
    "\n",
    "conn = psycopg2.connect(\n",
    "    dbname=PG_DB,\n",
    "    user=PG_USER,\n",
    "    password=PG_PASSWORD,\n",
    "    host=PG_HOST,\n",
    "    port=PG_PORT\n",
    ")\n",
    "cur = conn.cursor()"
   ]
  },
  {
   "cell_type": "code",
   "execution_count": 74,
   "id": "bound-hunger",
   "metadata": {},
   "outputs": [],
   "source": [
    "def create_tables() -> None:\n",
    "    \"\"\"Создание таблиц в базе данных\"\"\"\n",
    "    cur.execute(\"\"\"\n",
    "        CREATE TABLE IF NOT EXISTS likedFilms (\n",
    "            id SERIAL PRIMARY KEY,\n",
    "            user_id VARCHAR(255),\n",
    "            film_id VARCHAR(255),\n",
    "            type VARCHAR(255),\n",
    "            datetime TIMESTAMP\n",
    "        )\n",
    "    \"\"\")\n",
    "\n",
    "    cur.execute(\"\"\"\n",
    "        CREATE TABLE IF NOT EXISTS reviews (\n",
    "            id SERIAL PRIMARY KEY,\n",
    "            user_id VARCHAR(255),\n",
    "            film_id VARCHAR(255),\n",
    "            text TEXT,\n",
    "            rating INTEGER,\n",
    "            datetime TIMESTAMP\n",
    "        )\n",
    "    \"\"\")\n",
    "\n",
    "    cur.execute(\"\"\"\n",
    "        CREATE TABLE IF NOT EXISTS bookmarks (\n",
    "            id SERIAL PRIMARY KEY,\n",
    "            user_id VARCHAR(255),\n",
    "            film_id VARCHAR(255),\n",
    "            datetime TIMESTAMP\n",
    "        )\n",
    "    \"\"\")\n",
    "\n",
    "    conn.commit()\n",
    "\n",
    "# Вызов функции для создания таблиц\n",
    "create_tables()"
   ]
  },
  {
   "cell_type": "code",
   "execution_count": 75,
   "id": "f54b7b64",
   "metadata": {},
   "outputs": [],
   "source": [
    "\"\"\"Генерация фейковых данных для исследования\"\"\"\n",
    "from random import choice, randint\n",
    "from typing import Callable\n",
    "from uuid import uuid4\n",
    "\n",
    "from faker import Faker\n",
    "\n",
    "LIKE = 1\n",
    "DISLIKE = 0\n",
    "START_DATE = \"-30d\"\n",
    "END_DATE = \"now\"\n",
    "MIN_RATING = 1\n",
    "MAX_RATING = 10\n",
    "fake = Faker()"
   ]
  },
  {
   "cell_type": "code",
   "execution_count": 76,
   "id": "08fba4da",
   "metadata": {},
   "outputs": [],
   "source": [
    "def fake_like_event(user_id: str = None, film_id: str = None) -> dict:\n",
    "    \"\"\"Генерация события like\"\"\"\n",
    "    return {\n",
    "        \"user_id\": user_id if user_id else str(uuid4()),\n",
    "        \"film_id\": film_id if film_id else str(uuid4()),\n",
    "        \"type\": choice([LIKE, DISLIKE]),\n",
    "        \"datetime\": fake.date_time_between(start_date=START_DATE, end_date=END_DATE),\n",
    "    }"
   ]
  },
  {
   "cell_type": "code",
   "execution_count": 104,
   "id": "6c06ce65",
   "metadata": {},
   "outputs": [],
   "source": [
    "def fake_review_event(user_id: str = None, film_id: str = None) -> dict:\n",
    "    \"\"\"Генерация события review\"\"\"\n",
    "    return {\n",
    "        \"user_id\": user_id if user_id else str(uuid4()),\n",
    "        \"film_id\": film_id if film_id else str(uuid4()),\n",
    "        \"text\": fake.text(),\n",
    "        \"rating\": randint(MIN_RATING, MAX_RATING),\n",
    "        \"datetime\": fake.date_time_between(start_date=START_DATE, end_date=END_DATE),\n",
    "    }\n"
   ]
  },
  {
   "cell_type": "code",
   "execution_count": 127,
   "id": "2a657d2b",
   "metadata": {},
   "outputs": [],
   "source": [
    "def fake_bookmark_event(user_id: str = None, film_id: str = None) -> dict:\n",
    "    \"\"\"Генерация события bookmark\"\"\"\n",
    "    return {\n",
    "        \"user_id\": user_id if user_id else str(uuid4()),\n",
    "        \"film_id\": film_id if film_id else str(uuid4()),\n",
    "        \"datetime\": fake.date_time_between(start_date=START_DATE, end_date=END_DATE),\n",
    "    }"
   ]
  },
  {
   "cell_type": "code",
   "execution_count": 80,
   "id": "ab9e35c8",
   "metadata": {},
   "outputs": [],
   "source": [
    "def fake_batch(event_faker: Callable, user_size: int, batch_size: int) -> list:\n",
    "    \"\"\"Генерация батча событий\"\"\"\n",
    "    users = [str(uuid4()) for _ in range(user_size)]\n",
    "    return [event_faker(user_id=choice(users)) for _ in range(batch_size)]"
   ]
  },
  {
   "cell_type": "code",
   "execution_count": 92,
   "id": "ab1b3be7",
   "metadata": {},
   "outputs": [],
   "source": [
    "def fake_users_batch(event_faker: Callable, users: list, batch_size: int) -> list:\n",
    "    \"\"\"Генерация батча событий с фиксированными юзерами\"\"\"\n",
    "    return [event_faker(user_id=choice(users)) for _ in range(batch_size)]"
   ]
  },
  {
   "cell_type": "code",
   "execution_count": 129,
   "id": "graduate-upper",
   "metadata": {},
   "outputs": [],
   "source": [
    "def test_insert_step(\n",
    "        faker: Callable,\n",
    "        table_name: str,\n",
    "        batch_size: int,\n",
    "        iterations: int = ITERATIONS_NUMBER,\n",
    ") -> None:\n",
    "    \"\"\"Тестирование вставки\"\"\"\n",
    "    statistics = []\n",
    "    \n",
    "    if table_name == PG_COLLECTION_LIKE:\n",
    "        for _ in range(iterations):\n",
    "            batch = fake_batch(faker, USERS_IN_BATCH, batch_size)\n",
    "            query = f\"INSERT INTO {PG_COLLECTION_LIKE} (user_id, film_id, type, datetime) VALUES (%s, %s, %s, %s)\"\n",
    "            query = query\n",
    "            start = time.time()\n",
    "            cur.executemany(query, [(event['user_id'], event['film_id'], event['type'], event['datetime']) for event in batch])\n",
    "            conn.commit()\n",
    "            end = time.time()\n",
    "            statistics.append(end - start)\n",
    "    \n",
    "    elif table_name == PG_COLLECTION_REVIEW:\n",
    "        for _ in range(iterations):\n",
    "            batch = fake_batch(faker, USERS_IN_BATCH, batch_size)\n",
    "            query = query = f\"INSERT INTO {PG_COLLECTION_REVIEW} (user_id, film_id, text, rating, datetime) VALUES (%s, %s, %s, %s, %s)\"\n",
    "            query = query\n",
    "            start = time.time()\n",
    "            cur.executemany(query, [(event['user_id'], event['film_id'], event['text'], event['rating'], event['datetime']) for event in batch])\n",
    "            conn.commit()\n",
    "            end = time.time()\n",
    "            statistics.append(end - start)\n",
    "    \n",
    "    elif table_name == PG_COLLECTION_REVIEW:\n",
    "        for _ in range(iterations):\n",
    "            batch = fake_batch(faker, USERS_IN_BATCH, batch_size)\n",
    "            query = query = f\"INSERT INTO {PG_COLLECTION_REVIEW} (user_id, film_id, text, rating, datetime) VALUES (%s, %s, %s, %s, %s)\"\n",
    "            query = query\n",
    "            start = time.time()\n",
    "            cur.executemany(query, [(event['user_id'], event['film_id'], event['text'], event['rating'], event['datetime']) for event in batch])\n",
    "            conn.commit()\n",
    "            end = time.time()\n",
    "            statistics.append(end - start)\n",
    "    \n",
    "    elif table_name == PG_COLLECTION_REVIEW:\n",
    "        for _ in range(iterations):\n",
    "            batch = fake_batch(faker, USERS_IN_BATCH, batch_size)\n",
    "            query = f\"INSERT INTO {PG_COLLECTION_BOOKMARK} (user_id, film_id, datetime) VALUES (%s, %s, %s)\"\n",
    "            query = query\n",
    "            start = time.time()\n",
    "            cur.executemany(query, [(event['user_id'], event['film_id'], event['datetime']) for event in batch])\n",
    "            conn.commit()\n",
    "            end = time.time()\n",
    "            statistics.append(end - start)\n",
    "    \n",
    "    if len(statistics) != 0:\n",
    "        mean_batch = sum(statistics) / len(statistics)\n",
    "    else:\n",
    "        mean_batch = sum(statistics) / 1  # \n",
    "        \n",
    "    print(\n",
    "        f\"Statistics for {table_name} batch_size={batch_size}: batch={mean_batch} sec, \"\n",
    "        f\"item={mean_batch/batch_size} sec.\",\n",
    "    )"
   ]
  },
  {
   "cell_type": "code",
   "execution_count": 121,
   "id": "sophisticated-completion",
   "metadata": {},
   "outputs": [],
   "source": [
    "def test_insert(faker: Callable, table_name: str) -> None:\n",
    "    \"\"\"Тестирование вставки с разным размером батча\"\"\"\n",
    "    batch_sizes = [1, 10, 50, 100, 200, 500, 1000, 2000, 5000]\n",
    "    for batch_size in batch_sizes:\n",
    "        test_insert_step(faker, table_name, batch_size)"
   ]
  },
  {
   "cell_type": "code",
   "execution_count": 122,
   "id": "58208de6",
   "metadata": {},
   "outputs": [
    {
     "name": "stdout",
     "output_type": "stream",
     "text": [
      "Statistics for likedFilms batch_size=1: batch=0.003411221504211426 sec, item=0.003411221504211426 sec.\n",
      "Statistics for likedFilms batch_size=10: batch=0.008451271057128906 sec, item=0.0008451271057128906 sec.\n",
      "Statistics for likedFilms batch_size=50: batch=0.008076286315917969 sec, item=0.0001615257263183594 sec.\n",
      "Statistics for likedFilms batch_size=100: batch=0.01442093849182129 sec, item=0.0001442093849182129 sec.\n",
      "Statistics for likedFilms batch_size=200: batch=0.02544083595275879 sec, item=0.00012720417976379395 sec.\n",
      "Statistics for likedFilms batch_size=500: batch=0.059745287895202635 sec, item=0.00011949057579040527 sec.\n",
      "Statistics for likedFilms batch_size=1000: batch=0.12597131729125977 sec, item=0.00012597131729125976 sec.\n",
      "Statistics for likedFilms batch_size=2000: batch=0.2575524806976318 sec, item=0.0001287762403488159 sec.\n",
      "Statistics for likedFilms batch_size=5000: batch=0.5480046033859253 sec, item=0.00010960092067718505 sec.\n"
     ]
    }
   ],
   "source": [
    "test_insert(\n",
    "    fake_like_event,\n",
    "    PG_COLLECTION_LIKE,\n",
    ")"
   ]
  },
  {
   "cell_type": "code",
   "execution_count": 123,
   "id": "21ab067a",
   "metadata": {},
   "outputs": [
    {
     "name": "stdout",
     "output_type": "stream",
     "text": [
      "Statistics for reviews batch_size=1: batch=0.001703929901123047 sec, item=0.001703929901123047 sec.\n",
      "Statistics for reviews batch_size=10: batch=0.0029884815216064454 sec, item=0.00029884815216064454 sec.\n",
      "Statistics for reviews batch_size=50: batch=0.007425427436828613 sec, item=0.00014850854873657226 sec.\n",
      "Statistics for reviews batch_size=100: batch=0.014075589179992676 sec, item=0.00014075589179992677 sec.\n",
      "Statistics for reviews batch_size=200: batch=0.028784298896789552 sec, item=0.00014392149448394777 sec.\n",
      "Statistics for reviews batch_size=500: batch=0.0707939624786377 sec, item=0.0001415879249572754 sec.\n",
      "Statistics for reviews batch_size=1000: batch=0.11413779258728027 sec, item=0.00011413779258728027 sec.\n",
      "Statistics for reviews batch_size=2000: batch=0.22256641387939452 sec, item=0.00011128320693969726 sec.\n",
      "Statistics for reviews batch_size=5000: batch=0.5512250900268555 sec, item=0.00011024501800537109 sec.\n"
     ]
    }
   ],
   "source": [
    "test_insert(\n",
    "    fake_review_event,\n",
    "    PG_COLLECTION_REVIEW,\n",
    ")"
   ]
  },
  {
   "cell_type": "code",
   "execution_count": 130,
   "id": "bb2930c4",
   "metadata": {},
   "outputs": [
    {
     "name": "stdout",
     "output_type": "stream",
     "text": [
      "Statistics for bookmarks batch_size=1: batch=0.0 sec, item=0.0 sec.\n",
      "Statistics for bookmarks batch_size=10: batch=0.0 sec, item=0.0 sec.\n",
      "Statistics for bookmarks batch_size=50: batch=0.0 sec, item=0.0 sec.\n",
      "Statistics for bookmarks batch_size=100: batch=0.0 sec, item=0.0 sec.\n",
      "Statistics for bookmarks batch_size=200: batch=0.0 sec, item=0.0 sec.\n",
      "Statistics for bookmarks batch_size=500: batch=0.0 sec, item=0.0 sec.\n",
      "Statistics for bookmarks batch_size=1000: batch=0.0 sec, item=0.0 sec.\n",
      "Statistics for bookmarks batch_size=2000: batch=0.0 sec, item=0.0 sec.\n",
      "Statistics for bookmarks batch_size=5000: batch=0.0 sec, item=0.0 sec.\n"
     ]
    }
   ],
   "source": [
    "test_insert(\n",
    "    fake_bookmark_event,\n",
    "    PG_COLLECTION_BOOKMARK,\n",
    ")"
   ]
  },
  {
   "cell_type": "code",
   "execution_count": 152,
   "id": "universal-dayton",
   "metadata": {},
   "outputs": [],
   "source": [
    "def test_read_data(faker: Callable, table_name: str, users_size: int) -> None:\n",
    "    \"\"\"Тестирование чтения\"\"\"\n",
    "    statistics = []\n",
    "    users = [str(uuid4()) for _ in range(users_size)]\n",
    "    \n",
    "    for user in users:\n",
    "        start = time.time()\n",
    "        query = f\"SELECT * FROM {table_name} WHERE user_id = %s\"\n",
    "        cur.execute(query, (user,))\n",
    "        _ = cur.fetchall()\n",
    "        statistics.append(time.time() - start)\n",
    "\n",
    "    mean_batch = sum(statistics) / len(statistics)\n",
    "    print(\n",
    "        f\"Statistics read for {table_name} for ~{int(TEST_RECORDS_SIZE/users_size)} records: {mean_batch} sec\",\n",
    "    )"
   ]
  },
  {
   "cell_type": "code",
   "execution_count": 153,
   "id": "8f2ec2fc",
   "metadata": {},
   "outputs": [
    {
     "name": "stdout",
     "output_type": "stream",
     "text": [
      "Statistics read for likedFilms for ~500 records: 0.06465929746627808 sec\n"
     ]
    }
   ],
   "source": [
    "test_read_data(fake_like_event, PG_COLLECTION_LIKE, 20)"
   ]
  },
  {
   "cell_type": "code",
   "execution_count": 154,
   "id": "1933b47e",
   "metadata": {},
   "outputs": [
    {
     "name": "stdout",
     "output_type": "stream",
     "text": [
      "Statistics read for reviews for ~500 records: 0.016708147525787354 sec\n"
     ]
    }
   ],
   "source": [
    "test_read_data(fake_review_event, PG_COLLECTION_REVIEW, 20)"
   ]
  },
  {
   "cell_type": "code",
   "execution_count": 155,
   "id": "6a3cecd9",
   "metadata": {},
   "outputs": [
    {
     "name": "stdout",
     "output_type": "stream",
     "text": [
      "Statistics read for reviews for ~500 records: 0.01640894412994385 sec\n"
     ]
    }
   ],
   "source": [
    "test_read_data(fake_review_event, PG_COLLECTION_REVIEW, 20)"
   ]
  }
 ],
 "metadata": {
  "kernelspec": {
   "display_name": "Python 3",
   "language": "python",
   "name": "python3"
  },
  "language_info": {
   "codemirror_mode": {
    "name": "ipython",
    "version": 3
   },
   "file_extension": ".py",
   "mimetype": "text/x-python",
   "name": "python",
   "nbconvert_exporter": "python",
   "pygments_lexer": "ipython3",
   "version": "3.6.9"
  }
 },
 "nbformat": 4,
 "nbformat_minor": 5
}
